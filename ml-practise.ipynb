{
 "cells": [
  {
   "cell_type": "code",
   "execution_count": 1,
   "id": "ca2a8c99",
   "metadata": {
    "_cell_guid": "b1076dfc-b9ad-4769-8c92-a6c4dae69d19",
    "_uuid": "8f2839f25d086af736a60e9eeb907d3b93b6e0e5",
    "execution": {
     "iopub.execute_input": "2025-08-04T18:02:40.712079Z",
     "iopub.status.busy": "2025-08-04T18:02:40.711707Z",
     "iopub.status.idle": "2025-08-04T18:02:42.907304Z",
     "shell.execute_reply": "2025-08-04T18:02:42.906298Z"
    },
    "papermill": {
     "duration": 2.203226,
     "end_time": "2025-08-04T18:02:42.909204",
     "exception": false,
     "start_time": "2025-08-04T18:02:40.705978",
     "status": "completed"
    },
    "tags": []
   },
   "outputs": [
    {
     "name": "stdout",
     "output_type": "stream",
     "text": [
      "/kaggle/input/ipl-2025-player-lifetime-statistics/cricket_data_2025.csv\n"
     ]
    }
   ],
   "source": [
    "# This Python 3 environment comes with many helpful analytics libraries installed\n",
    "# It is defined by the kaggle/python Docker image: https://github.com/kaggle/docker-python\n",
    "# For example, here's several helpful packages to load\n",
    "\n",
    "import numpy as np # linear algebra\n",
    "import pandas as pd # data processing, CSV file I/O (e.g. pd.read_csv)\n",
    "\n",
    "# Input data files are available in the read-only \"../input/\" directory\n",
    "# For example, running this (by clicking run or pressing Shift+Enter) will list all files under the input directory\n",
    "\n",
    "import os\n",
    "for dirname, _, filenames in os.walk('/kaggle/input'):\n",
    "    for filename in filenames:\n",
    "        print(os.path.join(dirname, filename))\n",
    "\n",
    "# You can write up to 20GB to the current directory (/kaggle/working/) that gets preserved as output when you create a version using \"Save & Run All\" \n",
    "# You can also write temporary files to /kaggle/temp/, but they won't be saved outside of the current session"
   ]
  },
  {
   "cell_type": "code",
   "execution_count": 2,
   "id": "81e51b66",
   "metadata": {
    "execution": {
     "iopub.execute_input": "2025-08-04T18:02:42.918381Z",
     "iopub.status.busy": "2025-08-04T18:02:42.917932Z",
     "iopub.status.idle": "2025-08-04T18:02:42.948733Z",
     "shell.execute_reply": "2025-08-04T18:02:42.947693Z"
    },
    "papermill": {
     "duration": 0.037689,
     "end_time": "2025-08-04T18:02:42.950889",
     "exception": false,
     "start_time": "2025-08-04T18:02:42.913200",
     "status": "completed"
    },
    "tags": []
   },
   "outputs": [],
   "source": [
    "# The file path you found\n",
    "file_path = '/kaggle/input/ipl-2025-player-lifetime-statistics/cricket_data_2025.csv'\n",
    "\n",
    "# Read the CSV into a pandas DataFrame\n",
    "df = pd.read_csv(file_path)"
   ]
  },
  {
   "cell_type": "code",
   "execution_count": 3,
   "id": "e282407d",
   "metadata": {
    "execution": {
     "iopub.execute_input": "2025-08-04T18:02:42.958974Z",
     "iopub.status.busy": "2025-08-04T18:02:42.958655Z",
     "iopub.status.idle": "2025-08-04T18:02:43.231714Z",
     "shell.execute_reply": "2025-08-04T18:02:43.230041Z"
    },
    "papermill": {
     "duration": 0.279203,
     "end_time": "2025-08-04T18:02:43.233507",
     "exception": false,
     "start_time": "2025-08-04T18:02:42.954304",
     "status": "completed"
    },
    "tags": []
   },
   "outputs": [],
   "source": [
    "!git config --global user.email \"seshmanuvarthi27@gmail.com\"\n",
    "!git config --global user.name \"Seshmanuvarthi\"\n"
   ]
  },
  {
   "cell_type": "code",
   "execution_count": 4,
   "id": "13c3a0b7",
   "metadata": {
    "execution": {
     "iopub.execute_input": "2025-08-04T18:02:43.243338Z",
     "iopub.status.busy": "2025-08-04T18:02:43.242307Z",
     "iopub.status.idle": "2025-08-04T18:02:45.595656Z",
     "shell.execute_reply": "2025-08-04T18:02:45.594509Z"
    },
    "papermill": {
     "duration": 2.359376,
     "end_time": "2025-08-04T18:02:45.597148",
     "exception": false,
     "start_time": "2025-08-04T18:02:43.237772",
     "status": "completed"
    },
    "tags": []
   },
   "outputs": [
    {
     "name": "stdout",
     "output_type": "stream",
     "text": [
      "0       2019.0\n",
      "1       2024.0\n",
      "2       2023.0\n",
      "3       2022.0\n",
      "4       2021.0\n",
      "         ...  \n",
      "1003    2016.0\n",
      "1004    2015.0\n",
      "1005    2014.0\n",
      "1006    2013.0\n",
      "1007    2019.0\n",
      "Name: Year, Length: 1008, dtype: float64\n"
     ]
    },
    {
     "name": "stderr",
     "output_type": "stream",
     "text": [
      "/tmp/ipykernel_13/2534225924.py:10: FutureWarning: A value is trying to be set on a copy of a DataFrame or Series through chained assignment using an inplace method.\n",
      "The behavior will change in pandas 3.0. This inplace method will never work because the intermediate object on which we are setting values always behaves as a copy.\n",
      "\n",
      "For example, when doing 'df[col].method(value, inplace=True)', try using 'df.method({col: value}, inplace=True)' or df[col] = df[col].method(value) instead, to perform the operation inplace on the original object.\n",
      "\n",
      "\n",
      "  df['Year'].fillna(int(df['Year'].mean()),inplace=True) #Filling the null columns with mean of that Column\n"
     ]
    }
   ],
   "source": [
    "import pandas as pd\n",
    "import numpy as np\n",
    "from sklearn.model_selection import train_test_split\n",
    "from sklearn.feature_selection import VarianceThreshold\n",
    "\n",
    "df.shape\n",
    "\n",
    "[col for col in df.columns if df[col].isnull().sum()>0] #Finding the columns if the have null values\n",
    "\n",
    "df['Year'].fillna(int(df['Year'].mean()),inplace=True) #Filling the null columns with mean of that Column \n",
    "\n",
    "df['Year'].isnull().sum()\n",
    "\n",
    "print(df['Year'])"
   ]
  },
  {
   "cell_type": "code",
   "execution_count": 5,
   "id": "590e32e4",
   "metadata": {
    "execution": {
     "iopub.execute_input": "2025-08-04T18:02:45.605606Z",
     "iopub.status.busy": "2025-08-04T18:02:45.605040Z",
     "iopub.status.idle": "2025-08-04T18:02:45.625731Z",
     "shell.execute_reply": "2025-08-04T18:02:45.624507Z"
    },
    "papermill": {
     "duration": 0.026934,
     "end_time": "2025-08-04T18:02:45.627507",
     "exception": false,
     "start_time": "2025-08-04T18:02:45.600573",
     "status": "completed"
    },
    "tags": []
   },
   "outputs": [
    {
     "name": "stdout",
     "output_type": "stream",
     "text": [
      "[]\n"
     ]
    }
   ],
   "source": [
    "y = df['Runs_Scored']  #Predicting Runs_Scored \n",
    "X = df[['Matches_Batted', 'Not_Outs', 'Balls_Faced', 'Batting_Strike_Rate', 'Centuries']] \n",
    "\n",
    "X_train, X_test, y_train, y_test = train_test_split(df.drop(\"Runs_Scored\",axis=1),df['Runs_Scored'], test_size=0.3, random_state=42)\n",
    "\n",
    "numeric_cols = X_train.select_dtypes(include=['int64', 'float64'])\n",
    "\n",
    "constant_features = [col for col in numeric_cols.columns if X_train[col].std() == 0]\n",
    "\n",
    "print(constant_features)\n",
    "\n"
   ]
  },
  {
   "cell_type": "code",
   "execution_count": 6,
   "id": "3507db74",
   "metadata": {
    "execution": {
     "iopub.execute_input": "2025-08-04T18:02:45.635705Z",
     "iopub.status.busy": "2025-08-04T18:02:45.635337Z",
     "iopub.status.idle": "2025-08-04T18:02:45.642324Z",
     "shell.execute_reply": "2025-08-04T18:02:45.641308Z"
    },
    "papermill": {
     "duration": 0.013042,
     "end_time": "2025-08-04T18:02:45.644079",
     "exception": false,
     "start_time": "2025-08-04T18:02:45.631037",
     "status": "completed"
    },
    "tags": []
   },
   "outputs": [],
   "source": [
    "df['Empty_Col']=[0]*1008"
   ]
  },
  {
   "cell_type": "code",
   "execution_count": 7,
   "id": "13917730",
   "metadata": {
    "execution": {
     "iopub.execute_input": "2025-08-04T18:02:45.652941Z",
     "iopub.status.busy": "2025-08-04T18:02:45.652604Z",
     "iopub.status.idle": "2025-08-04T18:02:45.665379Z",
     "shell.execute_reply": "2025-08-04T18:02:45.664330Z"
    },
    "papermill": {
     "duration": 0.019457,
     "end_time": "2025-08-04T18:02:45.667182",
     "exception": false,
     "start_time": "2025-08-04T18:02:45.647725",
     "status": "completed"
    },
    "tags": []
   },
   "outputs": [
    {
     "name": "stdout",
     "output_type": "stream",
     "text": [
      "['Empty_Col']\n"
     ]
    }
   ],
   "source": [
    "X_train, X_test, y_train, y_test = train_test_split(df.drop(\"Runs_Scored\",axis=1),df['Runs_Scored'], test_size=0.3, random_state=42)\n",
    "\n",
    "numeric_cols = X_train.select_dtypes(include=['int64', 'float64'])\n",
    "\n",
    "constant_features = [col for col in numeric_cols if X_train[col].std() == 0]\n",
    "\n",
    "print(constant_features)\n",
    "\n"
   ]
  },
  {
   "cell_type": "code",
   "execution_count": 8,
   "id": "82f76a95",
   "metadata": {
    "execution": {
     "iopub.execute_input": "2025-08-04T18:02:45.675664Z",
     "iopub.status.busy": "2025-08-04T18:02:45.675265Z",
     "iopub.status.idle": "2025-08-04T18:02:45.709796Z",
     "shell.execute_reply": "2025-08-04T18:02:45.708728Z"
    },
    "papermill": {
     "duration": 0.041113,
     "end_time": "2025-08-04T18:02:45.711889",
     "exception": false,
     "start_time": "2025-08-04T18:02:45.670776",
     "status": "completed"
    },
    "tags": []
   },
   "outputs": [
    {
     "data": {
      "text/html": [
       "<div>\n",
       "<style scoped>\n",
       "    .dataframe tbody tr th:only-of-type {\n",
       "        vertical-align: middle;\n",
       "    }\n",
       "\n",
       "    .dataframe tbody tr th {\n",
       "        vertical-align: top;\n",
       "    }\n",
       "\n",
       "    .dataframe thead th {\n",
       "        text-align: right;\n",
       "    }\n",
       "</style>\n",
       "<table border=\"1\" class=\"dataframe\">\n",
       "  <thead>\n",
       "    <tr style=\"text-align: right;\">\n",
       "      <th></th>\n",
       "      <th>Year</th>\n",
       "      <th>Player_Name</th>\n",
       "      <th>Matches_Batted</th>\n",
       "      <th>Not_Outs</th>\n",
       "      <th>Runs_Scored</th>\n",
       "      <th>Highest_Score</th>\n",
       "      <th>Batting_Average</th>\n",
       "      <th>Balls_Faced</th>\n",
       "      <th>Batting_Strike_Rate</th>\n",
       "      <th>Centuries</th>\n",
       "      <th>...</th>\n",
       "      <th>Balls_Bowled</th>\n",
       "      <th>Runs_Conceded</th>\n",
       "      <th>Wickets_Taken</th>\n",
       "      <th>Best_Bowling_Match</th>\n",
       "      <th>Bowling_Average</th>\n",
       "      <th>Economy_Rate</th>\n",
       "      <th>Bowling_Strike_Rate</th>\n",
       "      <th>Four_Wicket_Hauls</th>\n",
       "      <th>Five_Wicket_Hauls</th>\n",
       "      <th>Empty_Col</th>\n",
       "    </tr>\n",
       "  </thead>\n",
       "  <tbody>\n",
       "    <tr>\n",
       "      <th>1003</th>\n",
       "      <td>2016.0</td>\n",
       "      <td>Yuzvendra Chahal</td>\n",
       "      <td>13</td>\n",
       "      <td>0</td>\n",
       "      <td>0</td>\n",
       "      <td>0</td>\n",
       "      <td>0.00</td>\n",
       "      <td>0.0</td>\n",
       "      <td>0.00</td>\n",
       "      <td>0</td>\n",
       "      <td>...</td>\n",
       "      <td>295</td>\n",
       "      <td>401</td>\n",
       "      <td>21</td>\n",
       "      <td>4/25</td>\n",
       "      <td>19.09</td>\n",
       "      <td>8.15</td>\n",
       "      <td>14.04</td>\n",
       "      <td>1</td>\n",
       "      <td>0</td>\n",
       "      <td>0</td>\n",
       "    </tr>\n",
       "    <tr>\n",
       "      <th>1004</th>\n",
       "      <td>2015.0</td>\n",
       "      <td>Yuzvendra Chahal</td>\n",
       "      <td>15</td>\n",
       "      <td>2</td>\n",
       "      <td>1</td>\n",
       "      <td>1*</td>\n",
       "      <td>0.00</td>\n",
       "      <td>1.0</td>\n",
       "      <td>100.00</td>\n",
       "      <td>0</td>\n",
       "      <td>...</td>\n",
       "      <td>281</td>\n",
       "      <td>415</td>\n",
       "      <td>23</td>\n",
       "      <td>3/40</td>\n",
       "      <td>18.04</td>\n",
       "      <td>8.86</td>\n",
       "      <td>12.21</td>\n",
       "      <td>0</td>\n",
       "      <td>0</td>\n",
       "      <td>0</td>\n",
       "    </tr>\n",
       "    <tr>\n",
       "      <th>1005</th>\n",
       "      <td>2014.0</td>\n",
       "      <td>Yuzvendra Chahal</td>\n",
       "      <td>14</td>\n",
       "      <td>2</td>\n",
       "      <td>1</td>\n",
       "      <td>1*</td>\n",
       "      <td>0.00</td>\n",
       "      <td>1.0</td>\n",
       "      <td>100.00</td>\n",
       "      <td>0</td>\n",
       "      <td>...</td>\n",
       "      <td>330</td>\n",
       "      <td>386</td>\n",
       "      <td>12</td>\n",
       "      <td>2/17</td>\n",
       "      <td>32.16</td>\n",
       "      <td>7.01</td>\n",
       "      <td>27.50</td>\n",
       "      <td>0</td>\n",
       "      <td>0</td>\n",
       "      <td>0</td>\n",
       "    </tr>\n",
       "    <tr>\n",
       "      <th>1006</th>\n",
       "      <td>2013.0</td>\n",
       "      <td>Yuzvendra Chahal</td>\n",
       "      <td>1</td>\n",
       "      <td>0</td>\n",
       "      <td>0</td>\n",
       "      <td>0</td>\n",
       "      <td>0.00</td>\n",
       "      <td>0.0</td>\n",
       "      <td>0.00</td>\n",
       "      <td>0</td>\n",
       "      <td>...</td>\n",
       "      <td>24</td>\n",
       "      <td>34</td>\n",
       "      <td>0</td>\n",
       "      <td>0/34</td>\n",
       "      <td>0</td>\n",
       "      <td>8.5</td>\n",
       "      <td>0</td>\n",
       "      <td>0</td>\n",
       "      <td>0</td>\n",
       "      <td>0</td>\n",
       "    </tr>\n",
       "    <tr>\n",
       "      <th>1007</th>\n",
       "      <td>2019.0</td>\n",
       "      <td>Zeeshan Ansari</td>\n",
       "      <td>No stats</td>\n",
       "      <td>No stats</td>\n",
       "      <td>No stats</td>\n",
       "      <td>No stats</td>\n",
       "      <td>No stats</td>\n",
       "      <td>No stats</td>\n",
       "      <td>No stats</td>\n",
       "      <td>No stats</td>\n",
       "      <td>...</td>\n",
       "      <td>No stats</td>\n",
       "      <td>No stats</td>\n",
       "      <td>No stats</td>\n",
       "      <td>No stats</td>\n",
       "      <td>No stats</td>\n",
       "      <td>No stats</td>\n",
       "      <td>No stats</td>\n",
       "      <td>No stats</td>\n",
       "      <td>No stats</td>\n",
       "      <td>0</td>\n",
       "    </tr>\n",
       "  </tbody>\n",
       "</table>\n",
       "<p>5 rows × 26 columns</p>\n",
       "</div>"
      ],
      "text/plain": [
       "        Year       Player_Name Matches_Batted  Not_Outs Runs_Scored  \\\n",
       "1003  2016.0  Yuzvendra Chahal             13         0           0   \n",
       "1004  2015.0  Yuzvendra Chahal             15         2           1   \n",
       "1005  2014.0  Yuzvendra Chahal             14         2           1   \n",
       "1006  2013.0  Yuzvendra Chahal              1         0           0   \n",
       "1007  2019.0    Zeeshan Ansari       No stats  No stats    No stats   \n",
       "\n",
       "     Highest_Score Batting_Average Balls_Faced Batting_Strike_Rate Centuries  \\\n",
       "1003             0            0.00         0.0                0.00         0   \n",
       "1004            1*            0.00         1.0              100.00         0   \n",
       "1005            1*            0.00         1.0              100.00         0   \n",
       "1006             0            0.00         0.0                0.00         0   \n",
       "1007      No stats        No stats    No stats            No stats  No stats   \n",
       "\n",
       "      ... Balls_Bowled Runs_Conceded Wickets_Taken Best_Bowling_Match  \\\n",
       "1003  ...          295           401            21               4/25   \n",
       "1004  ...          281           415            23               3/40   \n",
       "1005  ...          330           386            12               2/17   \n",
       "1006  ...           24            34             0               0/34   \n",
       "1007  ...     No stats      No stats      No stats           No stats   \n",
       "\n",
       "     Bowling_Average Economy_Rate Bowling_Strike_Rate Four_Wicket_Hauls  \\\n",
       "1003           19.09         8.15               14.04                 1   \n",
       "1004           18.04         8.86               12.21                 0   \n",
       "1005           32.16         7.01               27.50                 0   \n",
       "1006               0          8.5                   0                 0   \n",
       "1007        No stats     No stats            No stats          No stats   \n",
       "\n",
       "     Five_Wicket_Hauls Empty_Col  \n",
       "1003                 0         0  \n",
       "1004                 0         0  \n",
       "1005                 0         0  \n",
       "1006                 0         0  \n",
       "1007          No stats         0  \n",
       "\n",
       "[5 rows x 26 columns]"
      ]
     },
     "execution_count": 8,
     "metadata": {},
     "output_type": "execute_result"
    }
   ],
   "source": [
    "#How to Drop The columns having constant featues \n",
    "X_train.drop(labels=constant_features,axis=1,inplace=True)\n",
    "\n",
    "df.tail(5)"
   ]
  },
  {
   "cell_type": "code",
   "execution_count": 9,
   "id": "b7b7a128",
   "metadata": {
    "execution": {
     "iopub.execute_input": "2025-08-04T18:02:45.722316Z",
     "iopub.status.busy": "2025-08-04T18:02:45.721989Z",
     "iopub.status.idle": "2025-08-04T18:02:45.753156Z",
     "shell.execute_reply": "2025-08-04T18:02:45.751408Z"
    },
    "papermill": {
     "duration": 0.038774,
     "end_time": "2025-08-04T18:02:45.755123",
     "exception": false,
     "start_time": "2025-08-04T18:02:45.716349",
     "status": "completed"
    },
    "tags": []
   },
   "outputs": [
    {
     "name": "stdout",
     "output_type": "stream",
     "text": [
      "[]\n"
     ]
    }
   ],
   "source": [
    "#Quasi_Constant features --> The Columns contains almost the same values \n",
    "\n",
    "quasi_constant_feature=[]\n",
    "for col in X_train.columns:\n",
    "    predominant=(X_train[col].value_counts()/float(len(X_train))).sort_values(ascending=False).values[0] #Calculating the frequency of highest occuuring value in that feature and dividing it wih length of the X_rain DataFrame \n",
    "    \n",
    "    if predominant >0.989:\n",
    "        quasi_constant_feature.append(col)\n",
    "\n",
    "print(quasi_constant_feature)"
   ]
  },
  {
   "cell_type": "code",
   "execution_count": 10,
   "id": "a4751c11",
   "metadata": {
    "execution": {
     "iopub.execute_input": "2025-08-04T18:02:45.765639Z",
     "iopub.status.busy": "2025-08-04T18:02:45.765211Z",
     "iopub.status.idle": "2025-08-04T18:02:45.772386Z",
     "shell.execute_reply": "2025-08-04T18:02:45.771181Z"
    },
    "papermill": {
     "duration": 0.015018,
     "end_time": "2025-08-04T18:02:45.774325",
     "exception": false,
     "start_time": "2025-08-04T18:02:45.759307",
     "status": "completed"
    },
    "tags": []
   },
   "outputs": [
    {
     "data": {
      "text/plain": [
       "Index(['Year', 'Player_Name', 'Matches_Batted', 'Not_Outs', 'Runs_Scored',\n",
       "       'Highest_Score', 'Batting_Average', 'Balls_Faced',\n",
       "       'Batting_Strike_Rate', 'Centuries', 'Half_Centuries', 'Fours', 'Sixes',\n",
       "       'Catches_Taken', 'Stumpings', 'Matches_Bowled', 'Balls_Bowled',\n",
       "       'Runs_Conceded', 'Wickets_Taken', 'Best_Bowling_Match',\n",
       "       'Bowling_Average', 'Economy_Rate', 'Bowling_Strike_Rate',\n",
       "       'Four_Wicket_Hauls', 'Five_Wicket_Hauls', 'Empty_Col'],\n",
       "      dtype='object')"
      ]
     },
     "execution_count": 10,
     "metadata": {},
     "output_type": "execute_result"
    }
   ],
   "source": [
    "df.columns"
   ]
  },
  {
   "cell_type": "code",
   "execution_count": 11,
   "id": "1d305d47",
   "metadata": {
    "execution": {
     "iopub.execute_input": "2025-08-04T18:02:45.785587Z",
     "iopub.status.busy": "2025-08-04T18:02:45.785212Z",
     "iopub.status.idle": "2025-08-04T18:02:45.799365Z",
     "shell.execute_reply": "2025-08-04T18:02:45.798189Z"
    },
    "papermill": {
     "duration": 0.022465,
     "end_time": "2025-08-04T18:02:45.801269",
     "exception": false,
     "start_time": "2025-08-04T18:02:45.778804",
     "status": "completed"
    },
    "tags": []
   },
   "outputs": [],
   "source": [
    "#Duplicate Columns --> Two or More Columns containg exact same values for all the rows.\n",
    "duplicate_Cols=[]\n",
    "\n",
    "#Since there are no duplicate cols in our X_train We create\n",
    "X_train['Empty_Col1']=[0]*705\n",
    "X_train['Empty_Col2']=[0]*705\n",
    "\n",
    "for i in range(len(X_train.columns)):\n",
    "    col1=X_train.columns[i]\n",
    "    for col2 in X_train.columns[i+1:]:\n",
    "        if X_train[col1].equals(X_train[col2]):\n",
    "            duplicate_Cols.append(col2)\n",
    "\n",
    "X_train.drop(labels=duplicate_Cols,axis=1,inplace=True)\n",
    "\n",
    "\n",
    "\n"
   ]
  },
  {
   "cell_type": "code",
   "execution_count": 12,
   "id": "2e0ed352",
   "metadata": {
    "execution": {
     "iopub.execute_input": "2025-08-04T18:02:45.812202Z",
     "iopub.status.busy": "2025-08-04T18:02:45.811121Z",
     "iopub.status.idle": "2025-08-04T18:02:45.825103Z",
     "shell.execute_reply": "2025-08-04T18:02:45.823680Z"
    },
    "papermill": {
     "duration": 0.021021,
     "end_time": "2025-08-04T18:02:45.826845",
     "exception": false,
     "start_time": "2025-08-04T18:02:45.805824",
     "status": "completed"
    },
    "tags": []
   },
   "outputs": [
    {
     "name": "stdout",
     "output_type": "stream",
     "text": [
      "       Year         Player_Name Matches_Batted Not_Outs Highest_Score  \\\n",
      "442  2024.0  Maheesh Theekshana              5        0             0   \n",
      "822  2021.0         Shivam Dube              9        1           64*   \n",
      "398  2016.0       Kuldeep Yadav              3        0             0   \n",
      "783  2015.0      Sandeep Sharma             14        2             7   \n",
      "568  2024.0       Nehal Wadhera              6        0            49   \n",
      "\n",
      "    Batting_Average Balls_Faced Batting_Strike_Rate Centuries Half_Centuries  \\\n",
      "442               0         0.0                   0         0              0   \n",
      "822           28.75         193              119.17         0              1   \n",
      "398             0.0           0                 0.0         0              0   \n",
      "783            9.00        14.0               64.28         0              0   \n",
      "568           18.17          84              129.76         0              0   \n",
      "\n",
      "     ... Balls_Bowled Runs_Conceded Wickets_Taken Best_Bowling_Match  \\\n",
      "442  ...          120           144             2               1/27   \n",
      "822  ...           30            49             0                0/5   \n",
      "398  ...           72           100             6               3/35   \n",
      "783  ...          300           350            13               4/25   \n",
      "568  ...           12            13             0               0/13   \n",
      "\n",
      "    Bowling_Average Economy_Rate Bowling_Strike_Rate Four_Wicket_Hauls  \\\n",
      "442            72.0          7.2                60.0                 0   \n",
      "822               0         9.80                   0                 0   \n",
      "398           16.66         8.33                12.0                 0   \n",
      "783           26.92          7.0               23.07                 1   \n",
      "568               0         6.50                   0                 0   \n",
      "\n",
      "    Five_Wicket_Hauls Empty_Col1  \n",
      "442                 0          0  \n",
      "822                 0          0  \n",
      "398                 0          0  \n",
      "783                 0          0  \n",
      "568                 0          0  \n",
      "\n",
      "[5 rows x 25 columns]\n"
     ]
    }
   ],
   "source": [
    "print(X_train.head())"
   ]
  },
  {
   "cell_type": "code",
   "execution_count": 13,
   "id": "9e662c39",
   "metadata": {
    "execution": {
     "iopub.execute_input": "2025-08-04T18:02:45.836399Z",
     "iopub.status.busy": "2025-08-04T18:02:45.836098Z",
     "iopub.status.idle": "2025-08-04T18:02:46.855547Z",
     "shell.execute_reply": "2025-08-04T18:02:46.854444Z"
    },
    "papermill": {
     "duration": 1.026109,
     "end_time": "2025-08-04T18:02:46.857165",
     "exception": false,
     "start_time": "2025-08-04T18:02:45.831056",
     "status": "completed"
    },
    "tags": []
   },
   "outputs": [
    {
     "name": "stderr",
     "output_type": "stream",
     "text": [
      "/usr/local/lib/python3.11/dist-packages/matplotlib/colors.py:721: RuntimeWarning: invalid value encountered in less\n",
      "  xa[xa < 0] = -1\n"
     ]
    },
    {
     "data": {
      "image/png": "[encoded data removed]",
      "text/plain": [
       "<Figure size 600x400 with 2 Axes>"
      ]
     },
     "metadata": {},
     "output_type": "display_data"
    }
   ],
   "source": [
    "#Correlation --> Show How strong the pairs of features are linearly releated to each other.\n",
    "import matplotlib.pyplot as plt\n",
    "import seaborn as sns \n",
    "\n",
    "numeric_data=X_train.select_dtypes(include=['number'])\n",
    "corr_matrix=numeric_data.corr()\n",
    "\n",
    "plt.figure(figsize=(6,4))\n",
    "sns.heatmap(corr_matrix,annot=True,fmt=\".2f\",cmap=\"coolwarm\")\n",
    "plt.title(\"Correlation Matrixx\")\n",
    "plt.show()\n",
    "\n"
   ]
  },
  {
   "cell_type": "code",
   "execution_count": 14,
   "id": "f5f14ac4",
   "metadata": {
    "execution": {
     "iopub.execute_input": "2025-08-04T18:02:46.868037Z",
     "iopub.status.busy": "2025-08-04T18:02:46.867568Z",
     "iopub.status.idle": "2025-08-04T18:02:46.874481Z",
     "shell.execute_reply": "2025-08-04T18:02:46.873383Z"
    },
    "papermill": {
     "duration": 0.013921,
     "end_time": "2025-08-04T18:02:46.876120",
     "exception": false,
     "start_time": "2025-08-04T18:02:46.862199",
     "status": "completed"
    },
    "tags": []
   },
   "outputs": [
    {
     "name": "stdout",
     "output_type": "stream",
     "text": [
      "Year                   float64\n",
      "Player_Name             object\n",
      "Matches_Batted          object\n",
      "Not_Outs                object\n",
      "Highest_Score           object\n",
      "Batting_Average         object\n",
      "Balls_Faced             object\n",
      "Batting_Strike_Rate     object\n",
      "Centuries               object\n",
      "Half_Centuries          object\n",
      "Fours                   object\n",
      "Sixes                   object\n",
      "Catches_Taken           object\n",
      "Stumpings               object\n",
      "Matches_Bowled          object\n",
      "Balls_Bowled            object\n",
      "Runs_Conceded           object\n",
      "Wickets_Taken           object\n",
      "Best_Bowling_Match      object\n",
      "Bowling_Average         object\n",
      "Economy_Rate            object\n",
      "Bowling_Strike_Rate     object\n",
      "Four_Wicket_Hauls       object\n",
      "Five_Wicket_Hauls       object\n",
      "Empty_Col1               int64\n",
      "dtype: object\n"
     ]
    }
   ],
   "source": [
    "print(X_train.dtypes)"
   ]
  },
  {
   "cell_type": "code",
   "execution_count": null,
   "id": "67a6614a",
   "metadata": {
    "papermill": {
     "duration": 0.004315,
     "end_time": "2025-08-04T18:02:46.885166",
     "exception": false,
     "start_time": "2025-08-04T18:02:46.880851",
     "status": "completed"
    },
    "tags": []
   },
   "outputs": [],
   "source": []
  }
 ],
 "metadata": {
  "kaggle": {
   "accelerator": "none",
   "dataSources": [
    {
     "datasetId": 6878303,
     "sourceId": 11042372,
     "sourceType": "datasetVersion"
    }
   ],
   "dockerImageVersionId": 31089,
   "isGpuEnabled": false,
   "isInternetEnabled": false,
   "language": "python",
   "sourceType": "notebook"
  },
  "kernelspec": {
   "display_name": "Python 3",
   "language": "python",
   "name": "python3"
  },
  "language_info": {
   "codemirror_mode": {
    "name": "ipython",
    "version": 3
   },
   "file_extension": ".py",
   "mimetype": "text/x-python",
   "name": "python",
   "nbconvert_exporter": "python",
   "pygments_lexer": "ipython3",
   "version": "3.11.13"
  },
  "papermill": {
   "default_parameters": {},
   "duration": 12.249642,
   "end_time": "2025-08-04T18:02:47.710854",
   "environment_variables": {},
   "exception": null,
   "input_path": "__notebook__.ipynb",
   "output_path": "__notebook__.ipynb",
   "parameters": {},
   "start_time": "2025-08-04T18:02:35.461212",
   "version": "2.6.0"
  }
 },
 "nbformat": 4,
 "nbformat_minor": 5
}
