{
  "metadata": {
    "kernelspec": {
      "language": "python",
      "display_name": "Python 3",
      "name": "python3"
    },
    "language_info": {
      "name": "python",
      "version": "3.11.13",
      "mimetype": "text/x-python",
      "codemirror_mode": {
        "name": "ipython",
        "version": 3
      },
      "pygments_lexer": "ipython3",
      "nbconvert_exporter": "python",
      "file_extension": ".py"
    },
    "kaggle": {
      "accelerator": "none",
      "dataSources": [
        {
          "sourceId": 11042372,
          "sourceType": "datasetVersion",
          "datasetId": 6878303
        }
      ],
      "dockerImageVersionId": 31089,
      "isInternetEnabled": false,
      "language": "python",
      "sourceType": "notebook",
      "isGpuEnabled": false
    },
    "colab": {
      "name": "notebook629d09e9ec",
      "provenance": [],
      "include_colab_link": true
    }
  },
  "nbformat_minor": 0,
  "nbformat": 4,
  "cells": [
    {
      "cell_type": "markdown",
      "metadata": {
        "id": "view-in-github",
        "colab_type": "text"
      },
      "source": [
        "<a href=\"https://colab.research.google.com/github/Seshmanuvarthi/ml-journey-2025/blob/main/notebook629d09e9ec.ipynb\" target=\"_parent\"><img src=\"https://colab.research.google.com/assets/colab-badge.svg\" alt=\"Open In Colab\"/></a>"
      ]
    },
    {
      "source": [
        "# IMPORTANT: RUN THIS CELL IN ORDER TO IMPORT YOUR KAGGLE DATA SOURCES,\n",
        "# THEN FEEL FREE TO DELETE THIS CELL.\n",
        "# NOTE: THIS NOTEBOOK ENVIRONMENT DIFFERS FROM KAGGLE'S PYTHON\n",
        "# ENVIRONMENT SO THERE MAY BE MISSING LIBRARIES USED BY YOUR\n",
        "# NOTEBOOK.\n",
        "import kagglehub\n",
        "baddu01_ipl_2025_player_lifetime_statistics_path = kagglehub.dataset_download('baddu01/ipl-2025-player-lifetime-statistics')\n",
        "\n",
        "print('Data source import complete.')\n"
      ],
      "metadata": {
        "id": "kNik-S2dsL7u"
      },
      "cell_type": "code",
      "outputs": [],
      "execution_count": null
    },
    {
      "cell_type": "code",
      "source": [
        "# This Python 3 environment comes with many helpful analytics libraries installed\n",
        "# It is defined by the kaggle/python Docker image: https://github.com/kaggle/docker-python\n",
        "# For example, here's several helpful packages to load\n",
        "\n",
        "import numpy as np # linear algebra\n",
        "import pandas as pd # data processing, CSV file I/O (e.g. pd.read_csv)\n",
        "\n",
        "# Input data files are available in the read-only \"../input/\" directory\n",
        "# For example, running this (by clicking run or pressing Shift+Enter) will list all files under the input directory\n",
        "\n",
        "import os\n",
        "for dirname, _, filenames in os.walk('/kaggle/input'):\n",
        "    for filename in filenames:\n",
        "        print(os.path.join(dirname, filename))\n",
        "\n",
        "# You can write up to 20GB to the current directory (/kaggle/working/) that gets preserved as output when you create a version using \"Save & Run All\"\n",
        "# You can also write temporary files to /kaggle/temp/, but they won't be saved outside of the current session"
      ],
      "metadata": {
        "_uuid": "8f2839f25d086af736a60e9eeb907d3b93b6e0e5",
        "_cell_guid": "b1076dfc-b9ad-4769-8c92-a6c4dae69d19",
        "trusted": true,
        "execution": {
          "iopub.status.busy": "2025-08-03T09:04:31.983177Z",
          "iopub.execute_input": "2025-08-03T09:04:31.983377Z",
          "iopub.status.idle": "2025-08-03T09:04:34.205016Z",
          "shell.execute_reply.started": "2025-08-03T09:04:31.983358Z",
          "shell.execute_reply": "2025-08-03T09:04:34.204129Z"
        },
        "id": "RfiC5-W2sL7w",
        "outputId": "f8e8626a-78af-4723-aa45-3600dda3a17e"
      },
      "outputs": [
        {
          "name": "stdout",
          "text": "/kaggle/input/ipl-2025-player-lifetime-statistics/cricket_data_2025.csv\n",
          "output_type": "stream"
        }
      ],
      "execution_count": null
    },
    {
      "cell_type": "code",
      "source": [
        "# The file path you found\n",
        "file_path = '/kaggle/input/ipl-2025-player-lifetime-statistics/cricket_data_2025.csv'\n",
        "\n",
        "# Read the CSV into a pandas DataFrame\n",
        "df = pd.read_csv(file_path)"
      ],
      "metadata": {
        "trusted": true,
        "execution": {
          "iopub.status.busy": "2025-08-03T09:59:07.544131Z",
          "iopub.execute_input": "2025-08-03T09:59:07.544439Z",
          "iopub.status.idle": "2025-08-03T09:59:07.557013Z",
          "shell.execute_reply.started": "2025-08-03T09:59:07.544415Z",
          "shell.execute_reply": "2025-08-03T09:59:07.555917Z"
        },
        "id": "oF_TKjRAsL7x"
      },
      "outputs": [],
      "execution_count": null
    },
    {
      "cell_type": "code",
      "source": [
        "!git config --global user.email \"seshmanuvarthi27@gmail.com\"\n",
        "!git config --global user.name \"Seshmanuvarthi\"\n"
      ],
      "metadata": {
        "trusted": true,
        "execution": {
          "iopub.status.busy": "2025-08-03T09:16:27.352568Z",
          "iopub.execute_input": "2025-08-03T09:16:27.352906Z",
          "iopub.status.idle": "2025-08-03T09:16:27.60199Z",
          "shell.execute_reply.started": "2025-08-03T09:16:27.352876Z",
          "shell.execute_reply": "2025-08-03T09:16:27.600716Z"
        },
        "id": "4j6nSFgssL7x"
      },
      "outputs": [],
      "execution_count": null
    },
    {
      "cell_type": "code",
      "source": [
        "import pandas as pd\n",
        "import numpy as np\n",
        "from sklearn.model_selection import train_test_split\n",
        "from sklearn.feature_selection import VarianceThreshold\n",
        "\n",
        "df.shape\n",
        "\n",
        "[col for col in df.columns if df[col].isnull().sum()>0] #Finding the columns if the have null values\n",
        "\n",
        "df['Year'].fillna(int(df['Year'].mean()),inplace=True) #Filling the null columns with mean of that Column\n",
        "\n",
        "df['Year'].isnull().sum()\n",
        "\n",
        "print(df['Year'])"
      ],
      "metadata": {
        "trusted": true,
        "execution": {
          "iopub.status.busy": "2025-08-03T10:07:37.858198Z",
          "iopub.execute_input": "2025-08-03T10:07:37.858523Z",
          "iopub.status.idle": "2025-08-03T10:07:37.871543Z",
          "shell.execute_reply.started": "2025-08-03T10:07:37.85848Z",
          "shell.execute_reply": "2025-08-03T10:07:37.870402Z"
        },
        "id": "eS2SiT8JsL7x",
        "outputId": "059c73e5-b0c6-452f-9ea0-a3e8c0d2c4e8"
      },
      "outputs": [
        {
          "name": "stdout",
          "text": "0       2019.0\n1       2024.0\n2       2023.0\n3       2022.0\n4       2021.0\n         ...  \n1003    2016.0\n1004    2015.0\n1005    2014.0\n1006    2013.0\n1007    2019.0\nName: Year, Length: 1008, dtype: float64\n",
          "output_type": "stream"
        },
        {
          "name": "stderr",
          "text": "/tmp/ipykernel_36/2534225924.py:10: FutureWarning: A value is trying to be set on a copy of a DataFrame or Series through chained assignment using an inplace method.\nThe behavior will change in pandas 3.0. This inplace method will never work because the intermediate object on which we are setting values always behaves as a copy.\n\nFor example, when doing 'df[col].method(value, inplace=True)', try using 'df.method({col: value}, inplace=True)' or df[col] = df[col].method(value) instead, to perform the operation inplace on the original object.\n\n\n  df['Year'].fillna(int(df['Year'].mean()),inplace=True) #Filling the null columns with mean of that Column\n",
          "output_type": "stream"
        }
      ],
      "execution_count": null
    },
    {
      "cell_type": "code",
      "source": [
        "y = df['Runs_Scored']  #Predicting Runs_Scored\n",
        "X = df[['Matches_Batted', 'Not_Outs', 'Balls_Faced', 'Batting_Strike_Rate', 'Centuries']]\n",
        "\n",
        "X_train, X_test, y_train, y_test = train_test_split(df.drop(\"Runs_Scored\",axis=1),df['Runs_Scored'], test_size=0.3, random_state=42)\n",
        "\n",
        "numeric_cols = X_train.select_dtypes(include=['int64', 'float64'])\n",
        "\n",
        "constant_features = [col for col in numeric_cols.columns if X_train[col].std() == 0]\n",
        "\n",
        "print(constant_features)\n",
        "\n"
      ],
      "metadata": {
        "trusted": true,
        "execution": {
          "iopub.status.busy": "2025-08-03T10:33:00.529293Z",
          "iopub.execute_input": "2025-08-03T10:33:00.529647Z",
          "iopub.status.idle": "2025-08-03T10:33:00.540753Z",
          "shell.execute_reply.started": "2025-08-03T10:33:00.529621Z",
          "shell.execute_reply": "2025-08-03T10:33:00.53986Z"
        },
        "id": "oebC_OTNsL7x",
        "outputId": "6e0995f0-1fe9-4110-b06b-08a8155a5e77"
      },
      "outputs": [
        {
          "name": "stdout",
          "text": "[]\n",
          "output_type": "stream"
        }
      ],
      "execution_count": null
    },
    {
      "cell_type": "code",
      "source": [
        "df['Empty_Col']=[0]*1008"
      ],
      "metadata": {
        "trusted": true,
        "execution": {
          "iopub.status.busy": "2025-08-03T10:33:31.706478Z",
          "iopub.execute_input": "2025-08-03T10:33:31.706822Z",
          "iopub.status.idle": "2025-08-03T10:33:31.711656Z",
          "shell.execute_reply.started": "2025-08-03T10:33:31.706794Z",
          "shell.execute_reply": "2025-08-03T10:33:31.710619Z"
        },
        "id": "UU-WAzv2sL7x"
      },
      "outputs": [],
      "execution_count": null
    },
    {
      "cell_type": "code",
      "source": [
        "X_train, X_test, y_train, y_test = train_test_split(df.drop(\"Runs_Scored\",axis=1),df['Runs_Scored'], test_size=0.3, random_state=42)\n",
        "\n",
        "numeric_cols = X_train.select_dtypes(include=['int64', 'float64'])\n",
        "\n",
        "constant_features = [col for col in numeric_cols if X_train[col].std() == 0]\n",
        "\n",
        "print(constant_features)\n",
        "\n"
      ],
      "metadata": {
        "trusted": true,
        "execution": {
          "iopub.status.busy": "2025-08-03T10:34:08.764584Z",
          "iopub.execute_input": "2025-08-03T10:34:08.76493Z",
          "iopub.status.idle": "2025-08-03T10:34:08.775619Z",
          "shell.execute_reply.started": "2025-08-03T10:34:08.764908Z",
          "shell.execute_reply": "2025-08-03T10:34:08.77472Z"
        },
        "id": "iRqB9Ad7sL7y",
        "outputId": "bbbabebb-8070-4fb7-c767-c042640d8182"
      },
      "outputs": [
        {
          "name": "stdout",
          "text": "['Empty_Col']\n",
          "output_type": "stream"
        }
      ],
      "execution_count": null
    },
    {
      "cell_type": "code",
      "source": [
        "#How to Drop The columns having constant featues\n",
        "X_train.drop(labels=constant_features,axis=1,inplace=True)\n",
        "\n",
        "df.tail(5)"
      ],
      "metadata": {
        "trusted": true,
        "execution": {
          "iopub.status.busy": "2025-08-03T11:08:57.859837Z",
          "iopub.execute_input": "2025-08-03T11:08:57.860159Z",
          "iopub.status.idle": "2025-08-03T11:08:57.879989Z",
          "shell.execute_reply.started": "2025-08-03T11:08:57.86014Z",
          "shell.execute_reply": "2025-08-03T11:08:57.879103Z"
        },
        "id": "tfRGQyPpsL7y",
        "outputId": "e9bc087e-cd76-4e2d-92c2-d246493d51cd"
      },
      "outputs": [
        {
          "execution_count": 151,
          "output_type": "execute_result",
          "data": {
            "text/plain": "        Year       Player_Name Matches_Batted  Not_Outs Runs_Scored  \\\n1003  2016.0  Yuzvendra Chahal             13         0           0   \n1004  2015.0  Yuzvendra Chahal             15         2           1   \n1005  2014.0  Yuzvendra Chahal             14         2           1   \n1006  2013.0  Yuzvendra Chahal              1         0           0   \n1007  2019.0    Zeeshan Ansari       No stats  No stats    No stats   \n\n     Highest_Score Batting_Average Balls_Faced Batting_Strike_Rate Centuries  \\\n1003             0            0.00         0.0                0.00         0   \n1004            1*            0.00         1.0              100.00         0   \n1005            1*            0.00         1.0              100.00         0   \n1006             0            0.00         0.0                0.00         0   \n1007      No stats        No stats    No stats            No stats  No stats   \n\n      ... Runs_Conceded Wickets_Taken Best_Bowling_Match Bowling_Average  \\\n1003  ...           401            21               4/25           19.09   \n1004  ...           415            23               3/40           18.04   \n1005  ...           386            12               2/17           32.16   \n1006  ...            34             0               0/34               0   \n1007  ...      No stats      No stats           No stats        No stats   \n\n     Economy_Rate Bowling_Strike_Rate Four_Wicket_Hauls Five_Wicket_Hauls  \\\n1003         8.15               14.04                 1                 0   \n1004         8.86               12.21                 0                 0   \n1005         7.01               27.50                 0                 0   \n1006          8.5                   0                 0                 0   \n1007     No stats            No stats          No stats          No stats   \n\n     Empty_Col Empty_Col2  \n1003         0          0  \n1004         0          0  \n1005         0          0  \n1006         0          0  \n1007         0          0  \n\n[5 rows x 27 columns]",
            "text/html": "<div>\n<style scoped>\n    .dataframe tbody tr th:only-of-type {\n        vertical-align: middle;\n    }\n\n    .dataframe tbody tr th {\n        vertical-align: top;\n    }\n\n    .dataframe thead th {\n        text-align: right;\n    }\n</style>\n<table border=\"1\" class=\"dataframe\">\n  <thead>\n    <tr style=\"text-align: right;\">\n      <th></th>\n      <th>Year</th>\n      <th>Player_Name</th>\n      <th>Matches_Batted</th>\n      <th>Not_Outs</th>\n      <th>Runs_Scored</th>\n      <th>Highest_Score</th>\n      <th>Batting_Average</th>\n      <th>Balls_Faced</th>\n      <th>Batting_Strike_Rate</th>\n      <th>Centuries</th>\n      <th>...</th>\n      <th>Runs_Conceded</th>\n      <th>Wickets_Taken</th>\n      <th>Best_Bowling_Match</th>\n      <th>Bowling_Average</th>\n      <th>Economy_Rate</th>\n      <th>Bowling_Strike_Rate</th>\n      <th>Four_Wicket_Hauls</th>\n      <th>Five_Wicket_Hauls</th>\n      <th>Empty_Col</th>\n      <th>Empty_Col2</th>\n    </tr>\n  </thead>\n  <tbody>\n    <tr>\n      <th>1003</th>\n      <td>2016.0</td>\n      <td>Yuzvendra Chahal</td>\n      <td>13</td>\n      <td>0</td>\n      <td>0</td>\n      <td>0</td>\n      <td>0.00</td>\n      <td>0.0</td>\n      <td>0.00</td>\n      <td>0</td>\n      <td>...</td>\n      <td>401</td>\n      <td>21</td>\n      <td>4/25</td>\n      <td>19.09</td>\n      <td>8.15</td>\n      <td>14.04</td>\n      <td>1</td>\n      <td>0</td>\n      <td>0</td>\n      <td>0</td>\n    </tr>\n    <tr>\n      <th>1004</th>\n      <td>2015.0</td>\n      <td>Yuzvendra Chahal</td>\n      <td>15</td>\n      <td>2</td>\n      <td>1</td>\n      <td>1*</td>\n      <td>0.00</td>\n      <td>1.0</td>\n      <td>100.00</td>\n      <td>0</td>\n      <td>...</td>\n      <td>415</td>\n      <td>23</td>\n      <td>3/40</td>\n      <td>18.04</td>\n      <td>8.86</td>\n      <td>12.21</td>\n      <td>0</td>\n      <td>0</td>\n      <td>0</td>\n      <td>0</td>\n    </tr>\n    <tr>\n      <th>1005</th>\n      <td>2014.0</td>\n      <td>Yuzvendra Chahal</td>\n      <td>14</td>\n      <td>2</td>\n      <td>1</td>\n      <td>1*</td>\n      <td>0.00</td>\n      <td>1.0</td>\n      <td>100.00</td>\n      <td>0</td>\n      <td>...</td>\n      <td>386</td>\n      <td>12</td>\n      <td>2/17</td>\n      <td>32.16</td>\n      <td>7.01</td>\n      <td>27.50</td>\n      <td>0</td>\n      <td>0</td>\n      <td>0</td>\n      <td>0</td>\n    </tr>\n    <tr>\n      <th>1006</th>\n      <td>2013.0</td>\n      <td>Yuzvendra Chahal</td>\n      <td>1</td>\n      <td>0</td>\n      <td>0</td>\n      <td>0</td>\n      <td>0.00</td>\n      <td>0.0</td>\n      <td>0.00</td>\n      <td>0</td>\n      <td>...</td>\n      <td>34</td>\n      <td>0</td>\n      <td>0/34</td>\n      <td>0</td>\n      <td>8.5</td>\n      <td>0</td>\n      <td>0</td>\n      <td>0</td>\n      <td>0</td>\n      <td>0</td>\n    </tr>\n    <tr>\n      <th>1007</th>\n      <td>2019.0</td>\n      <td>Zeeshan Ansari</td>\n      <td>No stats</td>\n      <td>No stats</td>\n      <td>No stats</td>\n      <td>No stats</td>\n      <td>No stats</td>\n      <td>No stats</td>\n      <td>No stats</td>\n      <td>No stats</td>\n      <td>...</td>\n      <td>No stats</td>\n      <td>No stats</td>\n      <td>No stats</td>\n      <td>No stats</td>\n      <td>No stats</td>\n      <td>No stats</td>\n      <td>No stats</td>\n      <td>No stats</td>\n      <td>0</td>\n      <td>0</td>\n    </tr>\n  </tbody>\n</table>\n<p>5 rows × 27 columns</p>\n</div>"
          },
          "metadata": {}
        }
      ],
      "execution_count": null
    },
    {
      "cell_type": "code",
      "source": [
        "#Quasi_Constant features --> The Columns contains almost the same values\n",
        "\n",
        "quasi_constant_feature=[]\n",
        "for col in X_train.columns:\n",
        "    predominant=(X_train[col].value_counts()/float(len(X_train))).sort_values(ascending=False).values[0] #Calculating the frequency of highest occuuring value in that feature and dividing it wih length of the X_rain DataFrame\n",
        "\n",
        "    if predominant >0.989:\n",
        "        quasi_constant_feature.append(col)\n",
        "\n",
        "print(quasi_constant_feature)"
      ],
      "metadata": {
        "trusted": true,
        "execution": {
          "iopub.status.busy": "2025-08-03T10:46:38.84156Z",
          "iopub.execute_input": "2025-08-03T10:46:38.842158Z",
          "iopub.status.idle": "2025-08-03T10:46:38.869047Z",
          "shell.execute_reply.started": "2025-08-03T10:46:38.842131Z",
          "shell.execute_reply": "2025-08-03T10:46:38.867931Z"
        },
        "id": "o4_PdhVSsL7y",
        "outputId": "29e78b7b-5845-48e4-e142-c4487c8da372"
      },
      "outputs": [
        {
          "name": "stdout",
          "text": "[]\n",
          "output_type": "stream"
        }
      ],
      "execution_count": null
    },
    {
      "cell_type": "code",
      "source": [
        "df.columns"
      ],
      "metadata": {
        "trusted": true,
        "execution": {
          "iopub.status.busy": "2025-08-03T10:55:05.013889Z",
          "iopub.execute_input": "2025-08-03T10:55:05.014167Z",
          "iopub.status.idle": "2025-08-03T10:55:05.020385Z",
          "shell.execute_reply.started": "2025-08-03T10:55:05.014147Z",
          "shell.execute_reply": "2025-08-03T10:55:05.01964Z"
        },
        "id": "REB8iNZosL7y",
        "outputId": "ffd235a1-cfc1-4921-ed21-ef6a602f3ca6"
      },
      "outputs": [
        {
          "execution_count": 137,
          "output_type": "execute_result",
          "data": {
            "text/plain": "Index(['Year', 'Player_Name', 'Matches_Batted', 'Not_Outs', 'Runs_Scored',\n       'Highest_Score', 'Batting_Average', 'Balls_Faced',\n       'Batting_Strike_Rate', 'Centuries', 'Half_Centuries', 'Fours', 'Sixes',\n       'Catches_Taken', 'Stumpings', 'Matches_Bowled', 'Balls_Bowled',\n       'Runs_Conceded', 'Wickets_Taken', 'Best_Bowling_Match',\n       'Bowling_Average', 'Economy_Rate', 'Bowling_Strike_Rate',\n       'Four_Wicket_Hauls', 'Five_Wicket_Hauls'],\n      dtype='object')"
          },
          "metadata": {}
        }
      ],
      "execution_count": null
    },
    {
      "cell_type": "code",
      "source": [
        "#Duplicate Columns --> Two or More Columns containg exact same values for all the rows.\n",
        "duplicate_Cols=[]\n",
        "\n",
        "#Since there are no duplicate cols in our X_train We create\n",
        "X_train['Empty_Col1']=[0]*705\n",
        "X_train['Empty_Col2']=[0]*705\n",
        "\n",
        "for i in range(len(X_train.columns)):\n",
        "    col1=X_train.columns[i]\n",
        "    for col2 in X_train.columns[i+1:]:\n",
        "        if X_train[col1].equals(X_train[col2]):\n",
        "            duplicate_Cols.append(col2)\n",
        "\n",
        "X_train.drop(labels=duplicate_Cols,axis=1,inplace=True)\n",
        "\n",
        "\n",
        "\n"
      ],
      "metadata": {
        "trusted": true,
        "execution": {
          "iopub.status.busy": "2025-08-03T11:07:48.922789Z",
          "iopub.execute_input": "2025-08-03T11:07:48.923185Z",
          "iopub.status.idle": "2025-08-03T11:07:48.935808Z",
          "shell.execute_reply.started": "2025-08-03T11:07:48.923161Z",
          "shell.execute_reply": "2025-08-03T11:07:48.934757Z"
        },
        "id": "RPs83vHzsL7y",
        "outputId": "180f5f15-8bba-4959-d757-b5989ccd8ea6"
      },
      "outputs": [
        {
          "name": "stdout",
          "text": "['Empty_Col2', 'Empty_Col1', 'Empty_Col1']\n",
          "output_type": "stream"
        }
      ],
      "execution_count": null
    },
    {
      "cell_type": "code",
      "source": [
        "print(X_train.head())"
      ],
      "metadata": {
        "trusted": true,
        "execution": {
          "iopub.status.busy": "2025-08-03T11:09:03.13168Z",
          "iopub.execute_input": "2025-08-03T11:09:03.131981Z",
          "iopub.status.idle": "2025-08-03T11:09:03.144384Z",
          "shell.execute_reply.started": "2025-08-03T11:09:03.13196Z",
          "shell.execute_reply": "2025-08-03T11:09:03.143291Z"
        },
        "id": "QEMKbwqusL7z",
        "outputId": "c90c23c8-5a19-4802-bbf7-5c1a709a86b8"
      },
      "outputs": [
        {
          "name": "stdout",
          "text": "       Year         Player_Name Matches_Batted Not_Outs Highest_Score  \\\n442  2024.0  Maheesh Theekshana              5        0             0   \n822  2021.0         Shivam Dube              9        1           64*   \n398  2016.0       Kuldeep Yadav              3        0             0   \n783  2015.0      Sandeep Sharma             14        2             7   \n568  2024.0       Nehal Wadhera              6        0            49   \n\n    Batting_Average Balls_Faced Batting_Strike_Rate Centuries Half_Centuries  \\\n442               0         0.0                   0         0              0   \n822           28.75         193              119.17         0              1   \n398             0.0           0                 0.0         0              0   \n783            9.00        14.0               64.28         0              0   \n568           18.17          84              129.76         0              0   \n\n     ... Matches_Bowled Balls_Bowled Runs_Conceded Wickets_Taken  \\\n442  ...              5          120           144             2   \n822  ...              9           30            49             0   \n398  ...              3           72           100             6   \n783  ...             14          300           350            13   \n568  ...              6           12            13             0   \n\n    Best_Bowling_Match Bowling_Average Economy_Rate Bowling_Strike_Rate  \\\n442               1/27            72.0          7.2                60.0   \n822                0/5               0         9.80                   0   \n398               3/35           16.66         8.33                12.0   \n783               4/25           26.92          7.0               23.07   \n568               0/13               0         6.50                   0   \n\n    Four_Wicket_Hauls Five_Wicket_Hauls  \n442                 0                 0  \n822                 0                 0  \n398                 0                 0  \n783                 1                 0  \n568                 0                 0  \n\n[5 rows x 24 columns]\n",
          "output_type": "stream"
        }
      ],
      "execution_count": null
    },
    {
      "cell_type": "code",
      "source": [
        "#Correlation --> Show How strong the pairs of features are linearly releated to each other.\n",
        "import matplotlib.pyplot as plt\n",
        "import seaborn as sns\n",
        "\n",
        "numeric_data=X_train.select_dtypes(include=['number'])\n",
        "corr_matrix=numeric_data.corr()\n",
        "\n",
        "plt.figure(figsize=(6,4))\n",
        "sns.heatmap(corr_matrix,annot=True,fmt=\".2f\",cmap=\"coolwarm\")\n",
        "plt.title(\"Correlation Matrixx\")\n",
        "plt.show()\n",
        "\n"
      ],
      "metadata": {
        "trusted": true,
        "execution": {
          "iopub.status.busy": "2025-08-03T11:21:39.541306Z",
          "iopub.execute_input": "2025-08-03T11:21:39.54163Z",
          "iopub.status.idle": "2025-08-03T11:21:39.722585Z",
          "shell.execute_reply.started": "2025-08-03T11:21:39.541607Z",
          "shell.execute_reply": "2025-08-03T11:21:39.721739Z"
        },
        "id": "UhBCoA09sL7z",
        "outputId": "2d8fa5e3-9764-4312-80ec-74946370407e"
      },
      "outputs": [
        {
          "output_type": "display_data",
          "data": {
            "text/plain": "<Figure size 600x400 with 2 Axes>",
            "image/png": "[encoded data removed]"
          },
          "metadata": {}
        }
      ],
      "execution_count": null
    },
    {
      "cell_type": "code",
      "source": [
        "print(X_train.dtypes)\n"
      ],
      "metadata": {
        "trusted": true,
        "execution": {
          "iopub.status.busy": "2025-08-03T11:20:58.857871Z",
          "iopub.execute_input": "2025-08-03T11:20:58.858286Z",
          "iopub.status.idle": "2025-08-03T11:20:58.86606Z",
          "shell.execute_reply.started": "2025-08-03T11:20:58.858254Z",
          "shell.execute_reply": "2025-08-03T11:20:58.864845Z"
        },
        "id": "Q9GkanqbsL7z",
        "outputId": "eb3278db-49b4-4364-d9a0-b64d37fb4a70"
      },
      "outputs": [
        {
          "name": "stdout",
          "text": "Year                   float64\nPlayer_Name             object\nMatches_Batted          object\nNot_Outs                object\nHighest_Score           object\nBatting_Average         object\nBalls_Faced             object\nBatting_Strike_Rate     object\nCenturies               object\nHalf_Centuries          object\nFours                   object\nSixes                   object\nCatches_Taken           object\nStumpings               object\nMatches_Bowled          object\nBalls_Bowled            object\nRuns_Conceded           object\nWickets_Taken           object\nBest_Bowling_Match      object\nBowling_Average         object\nEconomy_Rate            object\nBowling_Strike_Rate     object\nFour_Wicket_Hauls       object\nFive_Wicket_Hauls       object\ndtype: object\n",
          "output_type": "stream"
        }
      ],
      "execution_count": null
    },
    {
      "cell_type": "code",
      "source": [],
      "metadata": {
        "trusted": true,
        "id": "KjcfxSzwsL7z"
      },
      "outputs": [],
      "execution_count": null
    }
  ]
}