{
  "nbformat": 4,
  "nbformat_minor": 0,
  "metadata": {
    "colab": {
      "provenance": [],
      "authorship_tag": "ABX9TyPe7SSy83/uSakOG1m2u9PV",
      "include_colab_link": true
    },
    "kernelspec": {
      "name": "python3",
      "display_name": "Python 3"
    },
    "language_info": {
      "name": "python"
    }
  },
  "cells": [
    {
      "cell_type": "markdown",
      "metadata": {
        "id": "view-in-github",
        "colab_type": "text"
      },
      "source": [
        "<a href=\"https://colab.research.google.com/github/Seshmanuvarthi/ml-journey-2025/blob/main/ML_Lab.ipynb\" target=\"_parent\"><img src=\"https://colab.research.google.com/assets/colab-badge.svg\" alt=\"Open In Colab\"/></a>"
      ]
    },
    {
      "cell_type": "markdown",
      "source": [
        "WEEK-1\n"
      ],
      "metadata": {
        "id": "MYZ1MPck4G3q"
      }
    },
    {
      "cell_type": "markdown",
      "source": [
        "5. Create the following Series and do the specified\n",
        "operations:\n",
        "a) EngAlph, having 26 elements with the alphabets\n",
        "as values and default index values.\n",
        "b) Vowels, having 5 elements with index labels ‘a’,\n",
        "‘e’, ‘i’, ‘o’ and ‘u’ and all the five values set to zero.\n",
        "Check if it is an empty series.\n",
        "c) Friends, from a dictionary having roll numbers of\n",
        "five of your friends as data and their first name\n",
        "as keys.\n",
        "d) MTseries, an empty Series. Check if it is an empty\n",
        "series.\n",
        "e) MonthDays, from a numpy array having the\n",
        "number of days in the 12 months of a year. The\n",
        "labels should be the month numbers from 1 to 12."
      ],
      "metadata": {
        "id": "1JXfP9va4Bbg"
      }
    },
    {
      "cell_type": "code",
      "source": [
        "import pandas as pd\n",
        "import numpy as np\n",
        "\n",
        "#a)\n",
        "alphabets = ['A', 'B', 'C', 'D', 'E', 'F', 'G', 'H', 'I', 'J',\n",
        "             'K', 'L', 'M', 'N', 'O', 'P', 'Q', 'R', 'S', 'T',\n",
        "             'U', 'V', 'W', 'X', 'Y', 'Z']\n",
        "EngAlph = pd.Series(alphabets)\n",
        "#print(EngAlph)\n",
        "\n",
        "#b)\n",
        "Vowels = pd.Series([0, 0, 0, 0, 0], index=['a', 'e', 'i', 'o', 'u'])\n",
        "#print(\"Vowels Series:\")\n",
        "#print(Vowels)\n",
        "#print(\"\\nIs the Vowels series empty \",Vowels.empty)\n",
        "\n",
        "#c)\n",
        "d1={\"sesh\":1900,\"sesh2\":1901,\"sesh3\":1902,\"sesh4\":1904,\"sesh5\":1905}\n",
        "frndSeries=pd.Series(d1)\n",
        "#print(frndSeries)\n",
        "\n",
        "#d)\n",
        "MTSeries=pd.Series()\n",
        "#print(MTSeries.empty)\n",
        "\n",
        "#e)\n",
        "days = np.array([31, 28, 31, 30, 31, 30, 31, 31, 30, 31, 30, 31])\n",
        "Months=pd.Series(days,index=[1,2,3,4,5,6,7,8,9,10,11,12])\n",
        "print(Months)\n"
      ],
      "metadata": {
        "colab": {
          "base_uri": "https://localhost:8080/"
        },
        "id": "u6AuoXg54Fsa",
        "outputId": "efbe122b-2ad8-4b00-d605-4b3e47105e88"
      },
      "execution_count": 34,
      "outputs": [
        {
          "output_type": "stream",
          "name": "stdout",
          "text": [
            "sesh     1900\n",
            "sesh2    1901\n",
            "sesh3    1902\n",
            "sesh4    1904\n",
            "sesh5    1905\n",
            "dtype: int64\n",
            "1     31\n",
            "2     28\n",
            "3     31\n",
            "4     30\n",
            "5     31\n",
            "6     30\n",
            "7     31\n",
            "8     31\n",
            "9     30\n",
            "10    31\n",
            "11    30\n",
            "12    31\n",
            "dtype: int64\n"
          ]
        }
      ]
    },
    {
      "cell_type": "markdown",
      "source": [
        "6. Using the Series created in Question 5, write\n",
        "commands for the following:\n",
        "a) Set all the values of Vowels to 10 and display the\n",
        "Series.\n",
        "b) Divide all values of Vowels by 2 and display the\n",
        "Series.\n",
        "c) Create another series Vowels1 having 5 elements\n",
        "with index labels ‘a’, ‘e’, ‘i’, ‘o’ and ‘u’ having values\n",
        "[2,5,6,3,8] respectively.\n",
        "d) Add Vowels and Vowels1 and assign the result to\n",
        "Vowels3.\n",
        "e) Subtract, Multiply and Divide Vowels by Vowels1.\n",
        "f) Alter the labels of Vowels1 to [‘A’, ‘E’, ‘I’, ‘O’, ‘U’].\n"
      ],
      "metadata": {
        "id": "eMZojJBT850t"
      }
    },
    {
      "cell_type": "code",
      "source": [
        "Vowels = pd.Series(10, index=['a', 'e', 'i', 'o', 'u'])\n",
        "#print(Vowels)\n",
        "\n",
        "Vowels=Vowels/2         #Divide each value by 2\n",
        "#print(Vowels)\n",
        "\n",
        "Vowels1=pd.Series([2,5,6,3,8],index=['a', 'e', 'i', 'o', 'u'])\n",
        "\n",
        "Vowels3=Vowels+Vowels1\n",
        "#print(Vowels3)\n",
        "\n",
        "print(Vowels-Vowels1)\n",
        "\n",
        "print(Vowels+Vowels1)\n",
        "\n",
        "print(Vowels*Vowels1)                       #Athematic operations can be directlt performed on the 2 SERIES directly just like integers\n",
        "\n",
        "print(Vowels/Vowels1)\n",
        "\n",
        "Vowels1.index=[\"A\",'E','I','O','U']\n",
        "\n",
        "print(Vowels1)"
      ],
      "metadata": {
        "colab": {
          "base_uri": "https://localhost:8080/"
        },
        "id": "b5kt0iMS85XJ",
        "outputId": "91a62a58-f5f8-4401-f282-b68b086a5cf2"
      },
      "execution_count": 33,
      "outputs": [
        {
          "output_type": "stream",
          "name": "stdout",
          "text": [
            "a    3.0\n",
            "e    0.0\n",
            "i   -1.0\n",
            "o    2.0\n",
            "u   -3.0\n",
            "dtype: float64\n",
            "a     7.0\n",
            "e    10.0\n",
            "i    11.0\n",
            "o     8.0\n",
            "u    13.0\n",
            "dtype: float64\n",
            "a    10.0\n",
            "e    25.0\n",
            "i    30.0\n",
            "o    15.0\n",
            "u    40.0\n",
            "dtype: float64\n",
            "a    2.500000\n",
            "e    1.000000\n",
            "i    0.833333\n",
            "o    1.666667\n",
            "u    0.625000\n",
            "dtype: float64\n",
            "A    2\n",
            "E    5\n",
            "I    6\n",
            "O    3\n",
            "U    8\n",
            "dtype: int64\n"
          ]
        }
      ]
    },
    {
      "cell_type": "markdown",
      "source": [
        "Week -2 Scikit Learn"
      ],
      "metadata": {
        "id": "125-iOlf9MHr"
      }
    },
    {
      "cell_type": "markdown",
      "source": [
        "Write a Python program to load the iris data from a given csv file into a dataframe and\n",
        "print the shape of the data, type of the data and first 3 rows."
      ],
      "metadata": {
        "id": "BjzGitXD97ES"
      }
    },
    {
      "cell_type": "code",
      "execution_count": 12,
      "metadata": {
        "colab": {
          "base_uri": "https://localhost:8080/"
        },
        "id": "_fTEVCeH8-M-",
        "outputId": "83a7fbf1-2c55-4fa2-953a-1cab1fcb3590"
      },
      "outputs": [
        {
          "output_type": "stream",
          "name": "stdout",
          "text": [
            "(149, 5)\n",
            "\n",
            "   5.1  3.5  1.4  0.2  Iris-setosa\n",
            "0  4.9  3.0  1.4  0.2  Iris-setosa\n",
            "1  4.7  3.2  1.3  0.2  Iris-setosa\n",
            "2  4.6  3.1  1.5  0.2  Iris-setosa\n",
            "\n",
            "5.1            float64\n",
            "3.5            float64\n",
            "1.4            float64\n",
            "0.2            float64\n",
            "Iris-setosa     object\n",
            "dtype: object\n"
          ]
        }
      ],
      "source": [
        "import pandas as pd\n",
        "df=pd.read_csv('/content/iris.data')\n",
        "print(df.shape)\n",
        "print()# Printing the shape of the DF\n",
        "print(df.head(3)) #To display top 3 rows from the DF\n",
        "print()\n",
        "print(df.dtypes)\n",
        "\n"
      ]
    },
    {
      "cell_type": "markdown",
      "source": [
        "2. Write a Python program using Scikit-learn to print the keys, number of rows-columns,\n",
        "feature names and the description of the Iris data."
      ],
      "metadata": {
        "id": "y2UOhohmA-nj"
      }
    },
    {
      "cell_type": "code",
      "source": [
        "from sklearn import datasets\n",
        "iris=datasets.load_iris()\n",
        "print(iris.keys())\n",
        "print(iris.data.shape)\n",
        "\n",
        "print(\"The feature names are \",iris.feature_names)\n",
        "\n",
        "print(\"The description of Iris Data is \",iris.DESCR)"
      ],
      "metadata": {
        "colab": {
          "base_uri": "https://localhost:8080/"
        },
        "id": "x64TjGa1BIaC",
        "outputId": "7d498cd3-f3a3-4148-8b34-df7c0bcf3284"
      },
      "execution_count": 13,
      "outputs": [
        {
          "output_type": "stream",
          "name": "stdout",
          "text": [
            "dict_keys(['data', 'target', 'frame', 'target_names', 'DESCR', 'feature_names', 'filename', 'data_module'])\n",
            "(150, 4)\n",
            "The feature names are  ['sepal length (cm)', 'sepal width (cm)', 'petal length (cm)', 'petal width (cm)']\n",
            "The description of Iris Data is  .. _iris_dataset:\n",
            "\n",
            "Iris plants dataset\n",
            "--------------------\n",
            "\n",
            "**Data Set Characteristics:**\n",
            "\n",
            ":Number of Instances: 150 (50 in each of three classes)\n",
            ":Number of Attributes: 4 numeric, predictive attributes and the class\n",
            ":Attribute Information:\n",
            "    - sepal length in cm\n",
            "    - sepal width in cm\n",
            "    - petal length in cm\n",
            "    - petal width in cm\n",
            "    - class:\n",
            "            - Iris-Setosa\n",
            "            - Iris-Versicolour\n",
            "            - Iris-Virginica\n",
            "\n",
            ":Summary Statistics:\n",
            "\n",
            "============== ==== ==== ======= ===== ====================\n",
            "                Min  Max   Mean    SD   Class Correlation\n",
            "============== ==== ==== ======= ===== ====================\n",
            "sepal length:   4.3  7.9   5.84   0.83    0.7826\n",
            "sepal width:    2.0  4.4   3.05   0.43   -0.4194\n",
            "petal length:   1.0  6.9   3.76   1.76    0.9490  (high!)\n",
            "petal width:    0.1  2.5   1.20   0.76    0.9565  (high!)\n",
            "============== ==== ==== ======= ===== ====================\n",
            "\n",
            ":Missing Attribute Values: None\n",
            ":Class Distribution: 33.3% for each of 3 classes.\n",
            ":Creator: R.A. Fisher\n",
            ":Donor: Michael Marshall (MARSHALL%PLU@io.arc.nasa.gov)\n",
            ":Date: July, 1988\n",
            "\n",
            "The famous Iris database, first used by Sir R.A. Fisher. The dataset is taken\n",
            "from Fisher's paper. Note that it's the same as in R, but not as in the UCI\n",
            "Machine Learning Repository, which has two wrong data points.\n",
            "\n",
            "This is perhaps the best known database to be found in the\n",
            "pattern recognition literature.  Fisher's paper is a classic in the field and\n",
            "is referenced frequently to this day.  (See Duda & Hart, for example.)  The\n",
            "data set contains 3 classes of 50 instances each, where each class refers to a\n",
            "type of iris plant.  One class is linearly separable from the other 2; the\n",
            "latter are NOT linearly separable from each other.\n",
            "\n",
            ".. dropdown:: References\n",
            "\n",
            "  - Fisher, R.A. \"The use of multiple measurements in taxonomic problems\"\n",
            "    Annual Eugenics, 7, Part II, 179-188 (1936); also in \"Contributions to\n",
            "    Mathematical Statistics\" (John Wiley, NY, 1950).\n",
            "  - Duda, R.O., & Hart, P.E. (1973) Pattern Classification and Scene Analysis.\n",
            "    (Q327.D83) John Wiley & Sons.  ISBN 0-471-22361-1.  See page 218.\n",
            "  - Dasarathy, B.V. (1980) \"Nosing Around the Neighborhood: A New System\n",
            "    Structure and Classification Rule for Recognition in Partially Exposed\n",
            "    Environments\".  IEEE Transactions on Pattern Analysis and Machine\n",
            "    Intelligence, Vol. PAMI-2, No. 1, 67-71.\n",
            "  - Gates, G.W. (1972) \"The Reduced Nearest Neighbor Rule\".  IEEE Transactions\n",
            "    on Information Theory, May 1972, 431-433.\n",
            "  - See also: 1988 MLC Proceedings, 54-64.  Cheeseman et al\"s AUTOCLASS II\n",
            "    conceptual clustering system finds 3 classes in the data.\n",
            "  - Many, many more ...\n",
            "\n"
          ]
        }
      ]
    },
    {
      "cell_type": "markdown",
      "source": [
        "3. Write a Python program to get the number of observations, missing values and nan\n",
        "values."
      ],
      "metadata": {
        "id": "_OSVxUfoFSqT"
      }
    },
    {
      "cell_type": "code",
      "source": [
        "#print(iris.data.isnull().sum())  #Shows error because iris.data is a numpy array we have to use isnan()\n",
        "\n",
        "df=pd.DataFrame(data=iris.data)\n",
        "#print(df.isnull().sum()) #Sum of the null values in each row\n",
        "\n",
        "n=df.isnull().sum().sum()\n",
        "\n",
        "print(\"The no of Null Values are \",n)\n",
        "print(\"The Size of the data frame is \", df.size)\n",
        "\n"
      ],
      "metadata": {
        "colab": {
          "base_uri": "https://localhost:8080/"
        },
        "id": "H46s1lEHFSDz",
        "outputId": "ca2eb160-fd7d-4565-f75a-26bd4f6c419b"
      },
      "execution_count": 14,
      "outputs": [
        {
          "output_type": "stream",
          "name": "stdout",
          "text": [
            "The no of Null Values are  0\n",
            "The Size of the data frame is  600\n"
          ]
        }
      ]
    },
    {
      "cell_type": "markdown",
      "source": [
        "4. Write a Python program to view basic statistical details like percentile, mean, std etc.\n",
        "of iris data."
      ],
      "metadata": {
        "id": "0mOSf9e9I9j4"
      }
    },
    {
      "cell_type": "code",
      "source": [
        "print(df.describe())"
      ],
      "metadata": {
        "colab": {
          "base_uri": "https://localhost:8080/"
        },
        "id": "IWgu0a7VJSKC",
        "outputId": "0f64fcab-14d8-4f10-95cf-cd364437ce43"
      },
      "execution_count": 11,
      "outputs": [
        {
          "output_type": "stream",
          "name": "stdout",
          "text": [
            "                0           1           2           3\n",
            "count  150.000000  150.000000  150.000000  150.000000\n",
            "mean     5.843333    3.057333    3.758000    1.199333\n",
            "std      0.828066    0.435866    1.765298    0.762238\n",
            "min      4.300000    2.000000    1.000000    0.100000\n",
            "25%      5.100000    2.800000    1.600000    0.300000\n",
            "50%      5.800000    3.000000    4.350000    1.300000\n",
            "75%      6.400000    3.300000    5.100000    1.800000\n",
            "max      7.900000    4.400000    6.900000    2.500000\n"
          ]
        }
      ]
    },
    {
      "cell_type": "markdown",
      "source": [
        "5. Write a Python program to get observations of each species (setosa, versicolor,\n",
        "virginica) from iris data."
      ],
      "metadata": {
        "id": "UXcTfhxPKPLx"
      }
    },
    {
      "cell_type": "code",
      "source": [],
      "metadata": {
        "id": "0qE9chXUKBzh"
      },
      "execution_count": null,
      "outputs": []
    }
  ]
}